{
 "cells": [
  {
   "cell_type": "markdown",
   "metadata": {},
   "source": [
    "## First Talk to GPT"
   ]
  },
  {
   "cell_type": "code",
   "execution_count": 8,
   "metadata": {},
   "outputs": [],
   "source": [
    "import openai\n",
    "\n",
    "from dotenv import find_dotenv, load_dotenv\n",
    "\n",
    "_ = load_dotenv(find_dotenv())"
   ]
  },
  {
   "cell_type": "code",
   "execution_count": 9,
   "metadata": {},
   "outputs": [],
   "source": [
    "client = openai.Client()"
   ]
  },
  {
   "cell_type": "markdown",
   "metadata": {},
   "source": [
    "# Answer represents the API Call"
   ]
  },
  {
   "cell_type": "code",
   "execution_count": 15,
   "metadata": {},
   "outputs": [],
   "source": [
    "msg = [{'role': 'user', 'content': 'Hi GPT, This is Evangelista'}]\n",
    "\n",
    "answer = client.chat.completions.create(\n",
    "    messages=msg,\n",
    "    model='gpt-4o-mini',\n",
    "    max_tokens=1000,\n",
    "    temperature=0\n",
    ")"
   ]
  },
  {
   "cell_type": "code",
   "execution_count": 16,
   "metadata": {},
   "outputs": [
    {
     "name": "stdout",
     "output_type": "stream",
     "text": [
      "Hello Evangelista! How can I assist you today?\n"
     ]
    }
   ],
   "source": [
    "print(answer.choices[0].message.content)"
   ]
  },
  {
   "cell_type": "code",
   "execution_count": null,
   "metadata": {},
   "outputs": [
    {
     "data": {
      "text/plain": [
       "{'role': 'assistant',\n",
       " 'content': 'Hello Evangelista! How can I assist you today?'}"
      ]
     },
     "execution_count": 14,
     "metadata": {},
     "output_type": "execute_result"
    }
   ],
   "source": [
    "msg.append({'role': 'assistant', 'content': answer.choices[0].message.content})\n"
   ]
  },
  {
   "cell_type": "markdown",
   "metadata": {},
   "source": [
    "# Answer with Stream"
   ]
  },
  {
   "cell_type": "markdown",
   "metadata": {},
   "source": [
    "## Using Functions\n",
    "\n",
    "# We can use functions as the API request"
   ]
  },
  {
   "cell_type": "code",
   "execution_count": 52,
   "metadata": {},
   "outputs": [],
   "source": [
    "def chat(msg, model='gpt-4o-mini', max_tokens=1000, temperature=0):\n",
    "    answer = client.chat.completions.create(\n",
    "    messages=msg,\n",
    "    model=model,\n",
    "    max_tokens=max_tokens,\n",
    "    temperature=temperature,\n",
    "    stream=True\n",
    "    )\n",
    "\n",
    "    answer_txt = \"\"\n",
    "    \n",
    "    for stream_answer in answer:\n",
    "        text = stream_answer.choices[0].delta.content\n",
    "        \n",
    "        if text:\n",
    "            answer_txt += text\n",
    "            print(text, end=' ')\n",
    "    \n",
    "    \n",
    "    msg.append({'role': 'assistant', 'content': answer_txt})\n",
    "\n",
    "    return msg\n"
   ]
  },
  {
   "cell_type": "code",
   "execution_count": 53,
   "metadata": {},
   "outputs": [
    {
     "name": "stdout",
     "output_type": "stream",
     "text": [
      "2  +   2  equals   4 . "
     ]
    },
    {
     "data": {
      "text/plain": [
       "[{'role': 'user', 'content': 'How much is 2 + 2'},\n",
       " {'role': 'assistant', 'content': '2 + 2 equals 4.'}]"
      ]
     },
     "execution_count": 53,
     "metadata": {},
     "output_type": "execute_result"
    }
   ],
   "source": [
    "msg = [{'role': 'user', 'content': 'How much is 2 + 2'}]\n",
    "chat(msg)"
   ]
  }
 ],
 "metadata": {
  "kernelspec": {
   "display_name": "Python 3",
   "language": "python",
   "name": "python3"
  },
  "language_info": {
   "codemirror_mode": {
    "name": "ipython",
    "version": 3
   },
   "file_extension": ".py",
   "mimetype": "text/x-python",
   "name": "python",
   "nbconvert_exporter": "python",
   "pygments_lexer": "ipython3",
   "version": "3.13.2"
  }
 },
 "nbformat": 4,
 "nbformat_minor": 2
}
