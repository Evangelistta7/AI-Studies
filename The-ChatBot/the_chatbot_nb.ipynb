{
 "cells": [
  {
   "cell_type": "markdown",
   "metadata": {},
   "source": [
    "## Starting the API"
   ]
  },
  {
   "cell_type": "code",
   "execution_count": 1,
   "metadata": {},
   "outputs": [],
   "source": [
    "import openai\n",
    "\n",
    "from dotenv import find_dotenv, load_dotenv\n",
    "\n",
    "_ = load_dotenv(find_dotenv())\n",
    "\n",
    "client = openai.Client()"
   ]
  },
  {
   "cell_type": "markdown",
   "metadata": {},
   "source": [
    "# Building the Start Menu"
   ]
  },
  {
   "cell_type": "code",
   "execution_count": 3,
   "metadata": {},
   "outputs": [
    {
     "name": "stdout",
     "output_type": "stream",
     "text": [
      "\t**** Welcome to the @Evangelistta7 ChatBot ****\n",
      "\t\t** powerd by gpt-4o-mini **\n",
      "\n",
      "Type your message bellow:                    [Enter 0 to Stop]\n",
      "\n"
     ]
    }
   ],
   "source": [
    "print('\\t**** Welcome to the @Evangelistta7 ChatBot ****')\n",
    "print('\\t\\t** powerd by gpt-4o-mini **\\n')\n",
    "\n",
    "print('Type your message bellow:                    [Enter 0 to Stop]\\n')"
   ]
  },
  {
   "cell_type": "markdown",
   "metadata": {},
   "source": [
    "## Testing the Loop"
   ]
  },
  {
   "cell_type": "code",
   "execution_count": null,
   "metadata": {},
   "outputs": [],
   "source": [
    "while True:\n",
    "\n",
    "    msg_user = input('User: ')\n",
    "    msg = [{'role': 'user', 'content': msg_user}]\n",
    "\n",
    "    if msg_user.isdigit() and int (msg_user) == 0:\n",
    "        break # encerra "
   ]
  }
 ],
 "metadata": {
  "kernelspec": {
   "display_name": "Python 3",
   "language": "python",
   "name": "python3"
  },
  "language_info": {
   "codemirror_mode": {
    "name": "ipython",
    "version": 3
   },
   "file_extension": ".py",
   "mimetype": "text/x-python",
   "name": "python",
   "nbconvert_exporter": "python",
   "pygments_lexer": "ipython3",
   "version": "3.13.2"
  }
 },
 "nbformat": 4,
 "nbformat_minor": 2
}
